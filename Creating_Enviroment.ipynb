{
 "cells": [
  {
   "cell_type": "code",
   "execution_count": 1,
   "metadata": {},
   "outputs": [],
   "source": [
    "from sim_class import Simulation\n",
    "\n",
    "# Initialize the simulation with a specified number of agents\n",
    "sim = Simulation(num_agents=1)  # For one robot"
   ]
  },
  {
   "cell_type": "code",
   "execution_count": 2,
   "metadata": {},
   "outputs": [
    {
     "data": {
      "text/plain": [
       "{'robotId_2': {'joint_states': {'joint_0': {'position': 0.0,\n",
       "    'velocity': 0.0,\n",
       "    'reaction_forces': (0.0, 0.0, 0.0, 0.0, 0.0, 0.0),\n",
       "    'motor_torque': 0.0},\n",
       "   'joint_1': {'position': 0.0,\n",
       "    'velocity': 0.0,\n",
       "    'reaction_forces': (0.0, 0.0, 0.0, 0.0, 0.0, 0.0),\n",
       "    'motor_torque': 0.0},\n",
       "   'joint_2': {'position': 0.0,\n",
       "    'velocity': 0.0,\n",
       "    'reaction_forces': (0.0, 0.0, 0.0, 0.0, 0.0, 0.0),\n",
       "    'motor_torque': 0.0}},\n",
       "  'robot_position': [0.0, 0.0, 0.03],\n",
       "  'pipette_position': [0.073, 0.0895, 0.1195]}}"
      ]
     },
     "execution_count": 2,
     "metadata": {},
     "output_type": "execute_result"
    }
   ],
   "source": [
    "sim.reset(num_agents=1)  # Reset the simulation with the specified number of agents"
   ]
  },
  {
   "cell_type": "code",
   "execution_count": 3,
   "metadata": {},
   "outputs": [
    {
     "data": {
      "text/plain": [
       "{'robotId_2': {'joint_states': {'joint_0': {'position': -0.18000202514825905,\n",
       "    'velocity': 0.0001351897597496777,\n",
       "    'reaction_forces': (0.0, 0.0, 0.0, 0.0, 0.0, 0.0),\n",
       "    'motor_torque': -500.00000000000006},\n",
       "   'joint_1': {'position': -0.130009035250755,\n",
       "    'velocity': 0.0005485538164993085,\n",
       "    'reaction_forces': (0.0, 0.0, 0.0, 0.0, 0.0, 0.0),\n",
       "    'motor_torque': -500.00000000000006},\n",
       "   'joint_2': {'position': 0.17017015626300608,\n",
       "    'velocity': -0.010209375780364294,\n",
       "    'reaction_forces': (0.0, 0.0, 0.0, 0.0, 0.0, 0.0),\n",
       "    'motor_torque': 800.0}},\n",
       "  'robot_position': [0.1800023510089135,\n",
       "   0.13000901165406797,\n",
       "   0.20017009488091778],\n",
       "  'pipette_position': [0.253, 0.2195, 0.2897]}}"
      ]
     },
     "execution_count": 3,
     "metadata": {},
     "output_type": "execute_result"
    }
   ],
   "source": [
    "# Define velocities for X, Y, Z axes and drop command\n",
    "velocity_x = 0.1  # Move along the X-axis\n",
    "velocity_y = 0.1  # Move along the Y-axis\n",
    "velocity_z = 0.1  # Move along the Z-axis\n",
    "drop_command = 0  # Assume this controls pipette action (e.g., no drop here)\n",
    "\n",
    "# Combine into an action\n",
    "action = [velocity_x, velocity_y, velocity_z, drop_command]\n",
    "\n",
    "# Define the number of steps for the simulation\n",
    "num_steps = 1000\n",
    "\n",
    "# Send the action to the simulation\n",
    "sim.run([action], num_steps=num_steps)\n",
    "\n",
    "\n"
   ]
  },
  {
   "cell_type": "code",
   "execution_count": 4,
   "metadata": {},
   "outputs": [
    {
     "name": "stdout",
     "output_type": "stream",
     "text": [
      "Moved to position: [0.2530024276417579, 0.21950715750495348, 0.2895106874247304]\n",
      "Moved to position: [-0.16354546133154418, 0.2195008449227958, 0.28950066826362764]\n",
      "Moved to position: [0.2529111029144165, -0.17050160318264554, 0.28950139971934474]\n",
      "Moved to position: [-0.1630625890311463, -0.17050014243922637, 0.2895000514023601]\n",
      "Moved to position: [0.25331006845794757, 0.2195003778132349, 0.16949889829845705]\n",
      "Moved to position: [-0.1631127965217843, 0.2195011433350027, 0.1694978065963525]\n",
      "Moved to position: [0.25324133006479477, -0.17050228307648577, 0.16949713769720523]\n",
      "Moved to position: [-0.16313426415230975, -0.17050181246373733, 0.16949916443917026]\n",
      "\n",
      "Working Envelope Coordinates:\n",
      "Corner 1: [0.2530024276417579, 0.21950715750495348, 0.2895106874247304]\n",
      "Corner 2: [-0.16354546133154418, 0.2195008449227958, 0.28950066826362764]\n",
      "Corner 3: [0.2529111029144165, -0.17050160318264554, 0.28950139971934474]\n",
      "Corner 4: [-0.1630625890311463, -0.17050014243922637, 0.2895000514023601]\n",
      "Corner 5: [0.25331006845794757, 0.2195003778132349, 0.16949889829845705]\n",
      "Corner 6: [-0.1631127965217843, 0.2195011433350027, 0.1694978065963525]\n",
      "Corner 7: [0.25324133006479477, -0.17050228307648577, 0.16949713769720523]\n",
      "Corner 8: [-0.16313426415230975, -0.17050181246373733, 0.16949916443917026]\n"
     ]
    }
   ],
   "source": [
    "# Define actions for moving to each corner of the cube \n",
    "actions = [\n",
    "    [0.1, 0.1, 0.1, 0],  \n",
    "    [-0.1, 0.1, 0.1, 0], \n",
    "    [0.1, -0.1, 0.1, 0], \n",
    "    [-0.1, -0.1, 0.1, 0], \n",
    "    [0.1, 0.1, -0.1, 0],  \n",
    "    [-0.1, 0.1, -0.1, 0],  \n",
    "    [0.1, -0.1, -0.1, 0],  \n",
    "    [-0.1, -0.1, -0.1, 0]  \n",
    "]\n",
    "\n",
    "# Number of simulation steps for each action\n",
    "num_steps = 1000\n",
    "\n",
    "# List to store the coordinates of each corner\n",
    "working_envelope = []\n",
    "\n",
    "# Move the robot to each corner and record the coordinates\n",
    "for action in actions:\n",
    "    # Send the action to the simulation\n",
    "    sim.run([action], num_steps=num_steps)\n",
    "    \n",
    "    # Get the pipette position\n",
    "    position = sim.get_pipette_position(robotId=2) \n",
    "    \n",
    "    # Store the position\n",
    "    working_envelope.append(position)\n",
    "    print(f\"Moved to position: {position}\")\n",
    "\n",
    "# Print the complete working envelope\n",
    "print(\"\\nWorking Envelope Coordinates:\")\n",
    "for idx, coord in enumerate(working_envelope, start=1):\n",
    "    print(f\"Corner {idx}: {coord}\")\n"
   ]
  }
 ],
 "metadata": {
  "kernelspec": {
   "display_name": "BlockB2GPU",
   "language": "python",
   "name": "python3"
  },
  "language_info": {
   "codemirror_mode": {
    "name": "ipython",
    "version": 3
   },
   "file_extension": ".py",
   "mimetype": "text/x-python",
   "name": "python",
   "nbconvert_exporter": "python",
   "pygments_lexer": "ipython3",
   "version": "3.8.19"
  }
 },
 "nbformat": 4,
 "nbformat_minor": 2
}
